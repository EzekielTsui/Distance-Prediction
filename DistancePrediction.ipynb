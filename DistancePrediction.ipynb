{
 "cells": [
  {
   "cell_type": "markdown",
   "metadata": {},
   "source": [
    "### cv2.findContours()  :\n",
    "findContours(InputOutputArray image,  \n",
    "&emsp;&emsp;&emsp;&emsp;&emsp;&emsp;OutputArrayOfArrays contours,  \n",
    "&emsp;&emsp;&emsp;&emsp;&emsp;&emsp;OutputArray hierarchy,  \n",
    "&emsp;&emsp;&emsp;&emsp;&emsp;&emsp;int mode,  \n",
    "&emsp;&emsp;&emsp;&emsp;&emsp;&emsp;int method,  \n",
    "&emsp;&emsp;&emsp;&emsp;&emsp;&emsp;Point offset = Point())  \n",
    "\n",
    "image:输入图像，图像必须为8-bit单通道图像（一般为灰度图或者是二值图）  \n",
    "contours:检测到的轮廓，每个轮廓都是以点向量的形式进行存储,即使用point类型的vector表示  \n",
    "hierarchy:可选的变量，包含了图像的拓扑信息  \n",
    "mode:轮廓检索模式  \n",
    "\n",
    "RETR_EXTERNAL:表示只检测最外层轮廓  \n",
    "RETR_LIST:提取所有轮廓，并放置在list中，检测的轮廓不建立等级关系   \n",
    "RETR_CCOMP:提取所有轮廓，并将轮廓组织成双层结构(two-level hierarchy),顶层为连通域的外围边界，次层位内层边界   \n",
    "RETR_TREE:提取所有轮廓并重新建立网状轮廓结构  \n",
    "RETR_FLOODFILL:洪水填充法  \n",
    "\n",
    "method:轮廓近似方法  \n",
    "CHAIN_APPROX_NONE：获取每个轮廓的每个像素，相邻的两个点的像素位置差不超过1  \n",
    "CHAIN_APPROX_SIMPLE：压缩水平方向，垂直方向，对角线方向的元素，只保留该方向的重点坐标，如果一个矩形轮廓只需4个点来保存轮廓信息  \n",
    "CHAIN_APPROX_TC89_L1和CHAIN_APPROX_TC89_KCOS使用Teh-Chinl链逼近算法中的一种  \n",
    "\n",
    "offset:轮廓点可选偏移量，有默认值Point()\n",
    "\n",
    "### cv2.Canny():  \n",
    "edge = cv2.Canny(image, threshold1, threshold2)  \n",
    "image:需要处理的原图像，该图像必须为单通道的灰度图；  \n",
    "threshold1:是阈值1；  \n",
    "threshold2:是阈值2。  \n",
    "强度梯度大于maxVal的任何边缘肯定是边缘，低于minVal的边缘肯定是非边缘，因此被丢弃。"
   ]
  },
  {
   "cell_type": "code",
   "execution_count": 6,
   "metadata": {},
   "outputs": [],
   "source": [
    "import cv2\n",
    "import numpy as np\n",
    "\n",
    "KNOWN_DISTANCE = 60  #已知距离（标定图），单位：英寸\n",
    "KNOWN_WIDTH = 11.69  #已知A4纸的宽度，单位：英寸\n",
    "KNOWN_HEIGHT = 8.26  #已知A4纸的高度，单位：英寸\n",
    "\n",
    "# 计算A4纸到摄像头的距离\n",
    "def distance_to_camera(knownWidth, focalLength, pixelWidth):\n",
    "    return (knownWidth*focalLength) / pixelWidth;\n",
    "\n",
    "# 检测A4纸\n",
    "def A4_Detect(image):\n",
    "    image_gray = cv2.cvtColor(image, cv2.COLOR_RGB2GRAY)\n",
    "    image_gray = cv2.GaussianBlur(image_gray, (5,5), 0)\n",
    "    edges = cv2.Canny(image_gray, 0, 50)\n",
    "    \n",
    "    (cnts, _) = cv2.findContours(edges.copy(), cv2.RETR_LIST, cv2.CHAIN_APPROX_SIMPLE)\n",
    "    \n",
    "    c = max(cnts, key = cv2.contourArea)\n",
    "    \n",
    "    return cv2.minAreaRect(c)"
   ]
  },
  {
   "cell_type": "code",
   "execution_count": 7,
   "metadata": {},
   "outputs": [],
   "source": [
    "# 存储图像路径\n",
    "IMAGE_PATHS1 = [\"0-20-0.jpg\", \"0-30-0.jpg\", \"0-50-0.jpg\", \"0-60-0.jpg\"]\n",
    "IMAGE_PATHS2 = [\"1-20-1.jpg\", \"1-30-1.jpg\", \"1-50-1.jpg\", \"1-60-1.jpg\"]"
   ]
  },
  {
   "cell_type": "code",
   "execution_count": 8,
   "metadata": {},
   "outputs": [],
   "source": [
    "# 利用已知的A4纸与已知的距离标定焦距\n",
    "standard_image = cv2.imread(IMAGE_PATHS1[3])\n",
    "known_A4 = A4_Detect(standard_image)\n",
    "\n",
    "focalLength = (known_A4[1][0]*KNOWN_DISTANCE) / KNOWN_WIDTH"
   ]
  },
  {
   "cell_type": "code",
   "execution_count": 9,
   "metadata": {},
   "outputs": [
    {
     "name": "stdout",
     "output_type": "stream",
     "text": [
      "焦距: 3009.7179037572178 inchs\n"
     ]
    }
   ],
   "source": [
    "print(\"焦距:\",focalLength,\"inchs\")"
   ]
  },
  {
   "cell_type": "code",
   "execution_count": 10,
   "metadata": {
    "scrolled": true
   },
   "outputs": [],
   "source": [
    "# 读取未知的图像，并估量A4纸到摄像头的距离\n",
    "test_image = cv2.imread(IMAGE_PATHS1[2])\n",
    "unknown_A4 = A4_Detect(test_image)\n",
    "\n",
    "distance = distance_to_camera(KNOWN_WIDTH, focalLength, unknown_A4[1][0])"
   ]
  },
  {
   "cell_type": "code",
   "execution_count": 11,
   "metadata": {
    "scrolled": false
   },
   "outputs": [
    {
     "name": "stdout",
     "output_type": "stream",
     "text": [
      "估量距离为： 50.45164101176325 inchs\n"
     ]
    }
   ],
   "source": [
    "print(\"估量距离为：\",distance,\"inchs\")"
   ]
  },
  {
   "cell_type": "markdown",
   "metadata": {},
   "source": [
    "==================================================这是一条华丽丽的分割线====================================================="
   ]
  },
  {
   "cell_type": "code",
   "execution_count": 8,
   "metadata": {},
   "outputs": [],
   "source": [
    "# standard_image = cv2.imread(IMAGE_PATHS[0])\n",
    "r = 700.0 / standard_image.shape[1]\n",
    "dim = (700, int(standard_image.shape[0] * r))\n",
    "\n",
    "for images in IMAGE_PATHS2:\n",
    "    image = cv2.imread(images)\n",
    "    \n",
    "    # 1.转为灰度图，以便后续调用cv2.findContours()\n",
    "    image_gray = cv2.cvtColor(image, cv2.COLOR_RGB2GRAY) \n",
    "    image_gray_resized = cv2.resize(image_gray,dim,interpolation = cv2.INTER_AREA)\n",
    "    cv2.imshow(\"image_gray\",image_gray_resized)\n",
    "        \n",
    "    # 2.使用高斯模糊去噪点\n",
    "    image_blur = cv2.GaussianBlur(image_gray, (47,47), 0)\n",
    "    image_gray_resized = cv2.resize(image_blur,dim,interpolation = cv2.INTER_AREA)\n",
    "    cv2.imshow(\"image_blur\",image_gray_resized)\n",
    "    \n",
    "    # 3.使用Canny算子检测轮廓\n",
    "    edges = cv2.Canny(image_blur, 100, 200)\n",
    "    edges_resized = cv2.resize(edges,dim,interpolation = cv2.INTER_AREA)\n",
    "    cv2.imshow(\"image_Canny\",edges_resized)\n",
    "    \n",
    "    # 4.在原图上画出能框住A4纸的最小矩形\n",
    "    cnt = A4_Detect(image)\n",
    "    box = cv2.boxPoints(cnt)\n",
    "    box = np.int0(box)\n",
    "    cv2.drawContours(image,[box],0,(0,0,255),10)\n",
    "    original_resized = cv2.resize(image,dim,interpolation = cv2.INTER_AREA) \n",
    "    cv2.imshow(\"image_original\",original_resized)\n",
    "    cv2.waitKey(0)\n",
    "    cv2.destroyAllWindows()"
   ]
  }
 ],
 "metadata": {
  "kernelspec": {
   "display_name": "Python 3",
   "language": "python",
   "name": "python3"
  },
  "language_info": {
   "codemirror_mode": {
    "name": "ipython",
    "version": 3
   },
   "file_extension": ".py",
   "mimetype": "text/x-python",
   "name": "python",
   "nbconvert_exporter": "python",
   "pygments_lexer": "ipython3",
   "version": "3.7.1"
  }
 },
 "nbformat": 4,
 "nbformat_minor": 2
}
